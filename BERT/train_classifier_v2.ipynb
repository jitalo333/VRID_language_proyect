{
 "cells": [
  {
   "cell_type": "code",
   "execution_count": null,
   "id": "c94180a1",
   "metadata": {},
   "outputs": [],
   "source": [
    "import pandas as pd\n",
    "import os\n",
    "from preprocess import preprocess_record\n",
    "from translate import translator\n",
    "\n"
   ]
  },
  {
   "cell_type": "markdown",
   "id": "5a15e37a",
   "metadata": {},
   "source": [
    "# 1) Preprocesamiento de los datos"
   ]
  },
  {
   "cell_type": "code",
   "execution_count": null,
   "id": "5b184a05",
   "metadata": {},
   "outputs": [],
   "source": [
    "# 1) Cargar datos\n",
    "path = \"\"\n",
    "filePATH = os.path.join(path, \"data_concatenada.xlsx\")\n",
    "df = pd.read_excel(filePATH,\n",
    "                   usecols=[\"Código VRID\", \"Título\", \"Resumen\", \"Keywords\", \"Interdisciplinario\", \"Transdisciplinario\"]) \\\n",
    "       .fillna(\"\")\n",
    "cols = [\"Título\", \"Resumen\", \"Keywords\"]\n",
    "df[cols] = df[cols].applymap(lambda x: \"\" if str(x).strip().upper() == \"DESCONOCIDO\" else str(x).strip())\n",
    "df[\"text_for_embedding\"] = df.apply(\n",
    "    lambda r: preprocess_record(r[\"Título\"], r[\"Resumen\"], r[\"Keywords\"]),\n",
    "    axis=1\n",
    ")"
   ]
  },
  {
   "cell_type": "markdown",
   "id": "850b5354",
   "metadata": {},
   "source": [
    "# 2) Traducción del texto"
   ]
  },
  {
   "cell_type": "code",
   "execution_count": null,
   "id": "a4c5555d",
   "metadata": {},
   "outputs": [],
   "source": [
    "trans = translator()\n",
    "df_test = df.iloc[0:5]\n",
    "df_test[\"text_for_embedding_translated\"] = df_test.apply(\n",
    "    lambda r: trans.detect_and_translate(r.get(\"text_for_embedding\", \"\")),\n",
    "    axis=1\n",
    ")\n",
    "df_test.to_excel(\"data_translated.xlsx\", index=False)"
   ]
  }
 ],
 "metadata": {
  "language_info": {
   "name": "python"
  }
 },
 "nbformat": 4,
 "nbformat_minor": 5
}
