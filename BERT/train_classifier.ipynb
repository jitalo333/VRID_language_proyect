{
 "cells": [
  {
   "cell_type": "code",
   "execution_count": 2,
   "id": "3d6b47a0",
   "metadata": {},
   "outputs": [],
   "source": [
    "import os\n",
    "import sys\n",
    "import pandas as pd\n",
    "import numpy as np\n",
    "from preprocess import clean_abstract, preprocess_record"
   ]
  },
  {
   "cell_type": "code",
   "execution_count": null,
   "id": "72198254",
   "metadata": {},
   "outputs": [
    {
     "name": "stderr",
     "output_type": "stream",
     "text": [
      "C:\\Users\\Alonso\\AppData\\Local\\Temp\\ipykernel_20108\\1084149492.py:6: FutureWarning: DataFrame.applymap has been deprecated. Use DataFrame.map instead.\n",
      "  df[cols] = df[cols].applymap(lambda x: \"\" if str(x).strip().upper() == \"DESCONOCIDO\" else str(x).strip())\n"
     ]
    }
   ],
   "source": [
    "# 1) Cargar datos\n",
    "df = pd.read_excel(\"data_concatenada.xlsx\",\n",
    "                   usecols=[\"Código VRID\", \"Título\", \"Resumen\", \"Keywords\", \"Interdisciplinario\", \"Transdisciplinario\"]) \\\n",
    "       .fillna(\"\")\n",
    "cols = [\"Título\", \"Resumen\", \"Keywords\"]\n",
    "df[cols] = df[cols].applymap(lambda x: \"\" if str(x).strip().upper() == \"DESCONOCIDO\" else str(x).strip())\n",
    "df[\"text_for_embedding\"] = df.apply(\n",
    "    lambda r: preprocess_record(r[\"Título\"], r[\"Resumen\"], r[\"Keywords\"]),\n",
    "    axis=1\n",
    ")\n",
    "#df.to_excel(\"vis_exequiel.xlsx\", index=False)"
   ]
  }
 ],
 "metadata": {
  "kernelspec": {
   "display_name": "base",
   "language": "python",
   "name": "python3"
  },
  "language_info": {
   "codemirror_mode": {
    "name": "ipython",
    "version": 3
   },
   "file_extension": ".py",
   "mimetype": "text/x-python",
   "name": "python",
   "nbconvert_exporter": "python",
   "pygments_lexer": "ipython3",
   "version": "3.11.5"
  }
 },
 "nbformat": 4,
 "nbformat_minor": 5
}
