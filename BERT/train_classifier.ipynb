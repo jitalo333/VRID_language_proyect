{
 "cells": [
  {
   "cell_type": "code",
   "execution_count": null,
   "id": "c94180a1",
   "metadata": {},
   "outputs": [],
   "source": [
    "import pandas as pd\n",
    "import os\n",
    "from preprocess import preprocess_record\n",
    "from translate import translator\n",
    "from encoder import embed_texts, prepare_data"
   ]
  },
  {
   "cell_type": "markdown",
   "id": "5a15e37a",
   "metadata": {},
   "source": [
    "# 1) Preprocesamiento de los datos"
   ]
  },
  {
   "cell_type": "code",
   "execution_count": null,
   "id": "5b184a05",
   "metadata": {},
   "outputs": [],
   "source": [
    "# 1) Cargar datos\n",
    "path = \"\"\n",
    "filePATH = os.path.join(path, \"data_concatenada.xlsx\")\n",
    "df = pd.read_excel(filePATH,\n",
    "                   usecols=[\"Código VRID\", \"Título\", \"Resumen\", \"Keywords\", \"Interdisciplinario\", \"Transdisciplinario\"]) \\\n",
    "       .fillna(\"\")\n",
    "# 2) Preprocesar los datos\n",
    "cols = [\"Título\", \"Resumen\", \"Keywords\"]\n",
    "df[cols] = df[cols].applymap(lambda x: \"\" if str(x).strip().upper() == \"DESCONOCIDO\" else str(x).strip())\n",
    "df[\"text_for_embedding\"] = df.apply(\n",
    "    lambda r: preprocess_record(r[\"Título\"], r[\"Resumen\"], r[\"Keywords\"]),\n",
    "    axis=1\n",
    ")\n",
    "df.to_excel(\"data_preprocessed.xlsx\", index=False)"
   ]
  },
  {
   "cell_type": "markdown",
   "id": "850b5354",
   "metadata": {},
   "source": [
    "# 2) Traducción del texto"
   ]
  },
  {
   "cell_type": "code",
   "execution_count": null,
   "id": "a4c5555d",
   "metadata": {},
   "outputs": [],
   "source": [
    "trans = translator()\n",
    "df[\"text_for_embedding_translated\"] = df.apply(\n",
    "    lambda r: trans.detect_and_translate(r.get(\"text_for_embedding\", \"\")),\n",
    "    axis=1\n",
    ")\n",
    "df.to_excel(\"data_translated.xlsx\", index=False)"
   ]
  },
  {
   "cell_type": "markdown",
   "id": "793467d4",
   "metadata": {},
   "source": [
    "# 3) Embedding text"
   ]
  },
  {
   "cell_type": "code",
   "execution_count": null,
   "id": "77d8d6a9",
   "metadata": {},
   "outputs": [],
   "source": [
    "# 1) Preparar textos y etiquetas\n",
    "texts, labels = prepare_data(df)\n",
    "\n",
    "# 2) Calcular embeddings\n",
    "# Parámetros modelo\n",
    "BASE_MODEL = \"allenai/specter2_base\"\n",
    "ADAPTER_NAME = \"allenai/specter2\"\n",
    "emb_texts = embed_texts(texts, BASE_MODEL, ADAPTER_NAME)\n",
    "\n",
    "# 3) Guardar embeddings y etiquetas\n",
    "df_dataset = pd.DataFrame(columns=[\"Código VRID\", \"labels\", \"embedings\"])\n",
    "df_dataset[\"Código VRID\"] = df.loc[labels.index, \"Código VRID\"]\n",
    "df_dataset[\"labels\"] = labels\n",
    "df_dataset[\"embedings\"] = emb_texts.tolist()\n",
    "df_dataset.to_excel(\"dataset_embed_translated.xlsx\", index=False)"
   ]
  }
 ],
 "metadata": {
  "kernelspec": {
   "display_name": "specter-gpu",
   "language": "python",
   "name": "python3"
  },
  "language_info": {
   "name": "python",
   "version": "3.10.18"
  }
 },
 "nbformat": 4,
 "nbformat_minor": 5
}
