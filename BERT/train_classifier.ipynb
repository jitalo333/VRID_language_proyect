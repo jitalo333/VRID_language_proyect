{
 "cells": [
  {
   "cell_type": "code",
   "execution_count": null,
   "id": "c94180a1",
   "metadata": {},
   "outputs": [],
   "source": [
    "import pandas as pd\n",
    "import os\n",
    "from preprocess import preprocess_record\n",
    "from translate import translator\n",
    "from encoder import embed_texts\n",
    "from sklearn.preprocessing import LabelEncoder\n",
    "from transformers import AutoTokenizer\n",
    "from adapters import AutoAdapterModel\n",
    "import torch"
   ]
  },
  {
   "cell_type": "markdown",
   "id": "5a15e37a",
   "metadata": {},
   "source": [
    "# 1) Preprocesamiento de los datos"
   ]
  },
  {
   "cell_type": "code",
   "execution_count": null,
   "id": "5b184a05",
   "metadata": {},
   "outputs": [],
   "source": [
    "# 1) Cargar datos\n",
    "path = \"\"\n",
    "filePATH = os.path.join(path, \"data_concatenada.xlsx\")\n",
    "df = pd.read_excel(filePATH,\n",
    "                   usecols=[\"Código VRID\", \"Título\", \"Resumen\", \"Keywords\", \"Interdisciplinario\", \"Transdisciplinario\"]) \\\n",
    "       .fillna(\"\")\n",
    "# 2) Preprocesar los datos\n",
    "cols = [\"Título\", \"Resumen\", \"Keywords\"]\n",
    "df[cols] = df[cols].applymap(lambda x: \"\" if str(x).strip().upper() == \"DESCONOCIDO\" else str(x).strip())\n",
    "df[\"text_for_embedding\"] = df.apply(\n",
    "    lambda r: preprocess_record(r[\"Título\"], r[\"Resumen\"], r[\"Keywords\"]),\n",
    "    axis=1\n",
    ")\n",
    "df.to_excel(\"data_preprocessed.xlsx\", index=False)"
   ]
  },
  {
   "cell_type": "markdown",
   "id": "850b5354",
   "metadata": {},
   "source": [
    "# 2) Traducción del texto"
   ]
  },
  {
   "cell_type": "code",
   "execution_count": null,
   "id": "a4c5555d",
   "metadata": {},
   "outputs": [],
   "source": [
    "trans = translator()\n",
    "df[\"text_for_embedding_translated\"] = df.apply(\n",
    "    lambda r: trans.detect_and_translate(r.get(\"text_for_embedding\", \"\")),\n",
    "    axis=1\n",
    ")\n",
    "df.to_excel(\"data_translated.xlsx\", index=False)"
   ]
  },
  {
   "cell_type": "markdown",
   "id": "793467d4",
   "metadata": {},
   "source": [
    "# 3) Embedding text"
   ]
  },
  {
   "cell_type": "code",
   "execution_count": null,
   "id": "77d8d6a9",
   "metadata": {},
   "outputs": [],
   "source": [
    "# Parámetros generales\n",
    "BASE_MODEL = \"allenai/specter2_base\"\n",
    "ADAPTER_NAME = \"allenai/specter2\"\n",
    "device = \"cuda\" if torch.cuda.is_available() else \"cpu\"\n",
    "\n",
    "# 1) Preparar textos y etiquetas\n",
    "texts = df[\"text_for_embedding_translated\"].tolist()\n",
    "labels = df[\"Interdisciplinario\"]\n",
    "#Eliminar labels = indefinido\n",
    "labels = labels[labels != \"INDEFINIDO\"]\n",
    "#label encoder\n",
    "le = LabelEncoder()\n",
    "labels = le.fit_transform(labels)\n",
    "labels = pd.Series(labels, index=df[df[\"Interdisciplinario\"] != \"INDEFINIDO\"].index)\n",
    "texts = [texts[i] for i in labels.index]\n",
    "\n",
    "# 2) Cargar modelo SPECTER2\n",
    "tokenizer = AutoTokenizer.from_pretrained(BASE_MODEL, trust_remote_code=True)\n",
    "model = AutoAdapterModel.from_pretrained(BASE_MODEL, trust_remote_code=True)\n",
    "model.load_adapter(ADAPTER_NAME, source=\"hf\", set_active=True)\n",
    "model.to(device)\n",
    "model.eval()\n",
    "print(\"Modelo SPECTER2 cargado correctamente.\")\n",
    "\n",
    "# 3) Calcular embeddings\n",
    "emb_texts = embed_texts(texts)\n",
    "\n",
    "# 4) Guardar embeddings y etiquetas\n",
    "df_dataset = pd.DataFrame(columns=[\"Código VRID\", \"labels\", \"embedings\"])\n",
    "df_dataset[\"Código VRID\"] = df.loc[labels.index, \"Código VRID\"]\n",
    "df_dataset[\"labels\"] = labels\n",
    "df_dataset[\"embedings\"] = emb_texts.tolist()\n",
    "df_dataset.to_excel(\"dataset_embed_translated.xlsx\", index=False)"
   ]
  }
 ],
 "metadata": {
  "language_info": {
   "name": "python"
  }
 },
 "nbformat": 4,
 "nbformat_minor": 5
}
